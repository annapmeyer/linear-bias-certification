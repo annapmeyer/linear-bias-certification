{
 "cells": [
  {
   "cell_type": "code",
   "execution_count": 2,
   "id": "9da3c934",
   "metadata": {},
   "outputs": [],
   "source": [
    "import numpy as np\n",
    "import pandas as pd\n",
    "import folktables\n",
    "from folktables import ACSDataSource, ACSIncome\n",
    "import matplotlib.pyplot as plt\n",
    "import math"
   ]
  },
  {
   "cell_type": "markdown",
   "id": "d7fbfad5",
   "metadata": {},
   "source": [
    "# Folktables\n",
    "Load and preprocess data for the Income and Income-Reg datasets using the Folktables library (https://github.com/zykls/folktables)\n",
    "\n",
    "To download the classification data, run everything except the \"Download regression data\" section. To download regression data, run everything except the \"Download categorical data\" section.\n",
    "\n",
    "To download additional states, edit where it says \"WI\" with a different state abbreviation."
   ]
  },
  {
   "cell_type": "markdown",
   "id": "e3f07005",
   "metadata": {},
   "source": [
    "## Download classification data\n",
    "The ACSIncome task is pre-defined for classification (i.e., predicting above or below a $50,000 threshold)."
   ]
  },
  {
   "cell_type": "code",
   "execution_count": 53,
   "id": "e9d30c61",
   "metadata": {},
   "outputs": [],
   "source": [
    "data_source = ACSDataSource(survey_year='2018', horizon='1-Year', survey='person')\n",
    "acs_data = data_source.get_data(states=[\"WI\"], download=True)\n",
    "#acs_data = data_source.get_data(states=[\"MD\"], download=True)\n",
    "#acs_data = data_source.get_data(states=[\"LA\"], download=True)\n",
    "#acs_data = data_source.get_data(states=['GA'], download=True)\n",
    "#acs_data = data_source.get_data(states=['OR'],download=True)\n",
    "features, label, group = ACSIncome.df_to_numpy(acs_data)"
   ]
  },
  {
   "cell_type": "markdown",
   "id": "72cef8dc",
   "metadata": {},
   "source": [
    "## Download regression data\n",
    "For regression data (i.e., predicting the exact salary)"
   ]
  },
  {
   "cell_type": "code",
   "execution_count": 3,
   "id": "2c2c0d4c",
   "metadata": {},
   "outputs": [],
   "source": [
    "def adult_filter(data):\n",
    "    \"\"\"Mimic the filters in place for Adult data.\n",
    "    Adult documentation notes: Extraction was done by Barry Becker from\n",
    "    the 1994 Census database. A set of reasonably clean records was extracted\n",
    "    using the following conditions:\n",
    "    ((AAGE>16) && (AGI>100) && (AFNLWGT>1)&& (HRSWK>0))\n",
    "    \"\"\"\n",
    "    df = data\n",
    "    df = df[df['AGEP'] > 16]\n",
    "    df = df[df['PINCP'] > 100]\n",
    "    df = df[df['WKHP'] > 0]\n",
    "    df = df[df['PWGTP'] >= 1]\n",
    "    return df\n",
    "\n",
    "ACSIncomeCont = folktables.BasicProblem(\n",
    "    features=[\n",
    "        'AGEP',\n",
    "        'COW',\n",
    "        'SCHL',\n",
    "        'MAR',\n",
    "        'OCCP',\n",
    "        'POBP',\n",
    "        'RELP',\n",
    "        'WKHP',\n",
    "        'SEX',\n",
    "        'RAC1P',\n",
    "    ],\n",
    "    target='PINCP',\n",
    "   # target_transform=lambda x: x > 50000,\n",
    "    group='RAC1P',\n",
    "    preprocess=adult_filter,\n",
    "    postprocess=lambda x: np.nan_to_num(x, -1),\n",
    ")"
   ]
  },
  {
   "cell_type": "code",
   "execution_count": 4,
   "id": "587c8f82",
   "metadata": {},
   "outputs": [
    {
     "name": "stdout",
     "output_type": "stream",
     "text": [
      "Downloading data for 2018 1-Year person survey for WI...\n"
     ]
    }
   ],
   "source": [
    "data_source = ACSDataSource(survey_year='2018', horizon='1-Year', survey='person')\n",
    "acs_data = data_source.get_data(states=[\"WI\"], download=True)\n",
    "features, label, group = ACSIncomeCont.df_to_numpy(acs_data)"
   ]
  },
  {
   "cell_type": "markdown",
   "id": "1a1a61eb",
   "metadata": {},
   "source": [
    "## Preprocessing"
   ]
  },
  {
   "cell_type": "markdown",
   "id": "42d55fd2",
   "metadata": {},
   "source": [
    "Cast the data into a pandas dataframe"
   ]
  },
  {
   "cell_type": "code",
   "execution_count": 54,
   "id": "aa14fa39",
   "metadata": {},
   "outputs": [],
   "source": [
    "features_pd = pd.DataFrame(features)"
   ]
  },
  {
   "cell_type": "markdown",
   "id": "a7c892d0",
   "metadata": {},
   "source": [
    "Notes of the data (**ACSIncome**)\n",
    "\n",
    "0. Age\n",
    "1. COW - class of worker (change to one-hot)\n",
    "2. SCHL - education attainment (keep as categories)\n",
    "3. MAR - marital status, change to one-hot\n",
    "4. OCCP - occupation (so many, think about whehter to just remove this)\n",
    "5. POBP - place of birth (state/country, maybe encode as us/abroad?)\n",
    "6. RELP - relationship to head of household\n",
    "7. WKHP - hours worked per week (binary)\n",
    "8. SEX\n",
    "9. RAC1P - race (one-hot)"
   ]
  },
  {
   "cell_type": "code",
   "execution_count": 56,
   "id": "665ed847",
   "metadata": {},
   "outputs": [],
   "source": [
    "occ = pd.Series(0 for x in range(len(features_pd)))\n",
    "pob = pd.Series(0 for x in range(len(features_pd)))\n",
    "rel = pd.Series(0 for x in range(len(features_pd)))\n",
    "\n",
    "for index,row in features_pd.iterrows():\n",
    "    if math.floor(row[4]/1000) in [6,7]: # put trades into single category\n",
    "        occ[index] = 6\n",
    "    else:\n",
    "        occ[index] = math.floor(row[4]/1000)\n",
    "        \n",
    "    if row[5] < 57: # US state\n",
    "        pob[index] = 0\n",
    "    elif row[5] < 79: # US territories\n",
    "        pob[index] = 1\n",
    "    elif row[5] < 170: # europe\n",
    "        pob[index] = 2\n",
    "    elif row[5] < 255: # asia\n",
    "        pob[index] = 3\n",
    "    elif row[5] == 301: #canada\n",
    "        pob[index] = 0 # group with US\n",
    "    elif row[5] < 400: # rest of americas\n",
    "        pob[index] = 4\n",
    "    elif row[6] < 470:\n",
    "        pob[index] = 5 # africas\n",
    "    else: # none for WI data\n",
    "        pob[index] = 6 # australia and everywhere else\n",
    "        \n",
    "    if row[6] in [0, 1, 13]: # HOH or partner\n",
    "        rel[index] = 0\n",
    "    elif row[6] in [2, 3, 4, 7, 14]: # child, grandchild, foster child\n",
    "        rel[index] = 1\n",
    "    elif row[6] in [5, 6, 8, 9, 10]: # other family\n",
    "        rel[index] = 2 \n",
    "    elif row[6] in [11, 12, 15]: # roommate, boarder, etc\n",
    "        rel[index] = 3\n",
    "    elif row[6] in [16]: # institutionalized\n",
    "        rel[index] = 4 \n",
    "    elif row[6] in [17]:\n",
    "        rel[index] = 5 # group quarters"
   ]
  },
  {
   "cell_type": "code",
   "execution_count": 57,
   "id": "cbe2f348",
   "metadata": {},
   "outputs": [],
   "source": [
    "work = pd.Series(0 for x in range(len(features_pd)))\n",
    "race = pd.Series(0 for x in range(len(features_pd)))\n",
    "for index,row in features_pd.iterrows():\n",
    "    if row[1] == 1: # for-profit\n",
    "        work[index] = 1\n",
    "    elif row[1] == 2: #non-profit\n",
    "        work[index] = 2\n",
    "    elif row[1] in [3, 4, 5]: #govt\n",
    "        work[index] = 3\n",
    "    elif row[1] in [6, 7, 8]: # self-employed\n",
    "        work[index] = 4\n",
    "        \n",
    "    if row[9] == 1: #white\n",
    "        race[index] = 1\n",
    "    elif row[9] == 2: #black\n",
    "        race[index] = 2\n",
    "    elif row[9] == 6: #asian\n",
    "        race[index] = 6\n",
    "    elif row[9] == 8: # other\n",
    "        race[index] = 8 \n",
    "    elif row[9] == 9: # 2+\n",
    "        race[index] = 9\n",
    "    elif row[9] in [3, 4, 5, 7]: # group alaska, hawaii, native am together\n",
    "        race[index] = 3"
   ]
  },
  {
   "cell_type": "code",
   "execution_count": 58,
   "id": "72a0490e",
   "metadata": {},
   "outputs": [],
   "source": [
    "ages = pd.Series(0 for x in range(len(features_pd)))\n",
    "ed = pd.Series(0 for x in range(len(features_pd)))\n",
    "hours = pd.Series(0 for x in range(len(features_pd)))\n",
    "for index,row in features_pd.iterrows():\n",
    "    if row[0] < 35:\n",
    "        ages[index] = 0\n",
    "    elif row[0] < 55:\n",
    "        ages[index] = 1\n",
    "    else:\n",
    "        ages[index] = 2\n",
    "        \n",
    "    if row[2] < 15: # no high school diploma\n",
    "        ed[index] = 0 \n",
    "    elif row[2] < 21: # no college diploma\n",
    "        ed[index] = 1\n",
    "    elif row[2] < 25: # college\n",
    "        ed[index] = 2\n",
    "    \n",
    "    if row[7] >= 40:\n",
    "        hours[index] = 1\n",
    "        "
   ]
  },
  {
   "cell_type": "code",
   "execution_count": 59,
   "id": "4581bb26",
   "metadata": {},
   "outputs": [],
   "source": [
    "sex = pd.Series(0 for x in range(len(features_pd)))\n",
    "mar = pd.Series(0 for x in range(len(features_pd)))\n",
    "for index,row in features_pd.iterrows():\n",
    "    if row[8] == 2: # female\n",
    "        sex[index] = 1\n",
    "    \n",
    "    if row[3] == 1: # married\n",
    "        mar[index] = 1\n",
    "    elif row[3] in [2,3,4]: # widowed, divorced, separated\n",
    "        mar[index] = 2\n",
    "    elif row[3] == 5: # never married\n",
    "        mar[index] = 3"
   ]
  },
  {
   "cell_type": "code",
   "execution_count": 61,
   "id": "4746e45c",
   "metadata": {},
   "outputs": [],
   "source": [
    "features_mod = features_pd.copy()\n",
    "features_mod[0] = ages\n",
    "features_mod[1] = work\n",
    "features_mod[2] = ed\n",
    "features_mod[3] = mar\n",
    "features_mod[4] = occ\n",
    "features_mod[5] = pob\n",
    "features_mod[6] = rel\n",
    "features_mod[7] = hours\n",
    "features_mod[8] = sex\n",
    "features_mod[9] = race"
   ]
  },
  {
   "cell_type": "code",
   "execution_count": 62,
   "id": "07dfcf58",
   "metadata": {},
   "outputs": [],
   "source": [
    "cols = ['hours_worked_over40', 'sex_male','age_under35','age_35to55','age_over55', 'work_forprofit', 'work_nonprofit', 'work_gov',\n",
    "        'work_selfemploy', 'education_noHS', 'education_HS', 'education_college', 'rel_married', 'rel_divorced',\n",
    "        'rel_single', 'occ_business', 'occ_science', 'occ_social', 'occ_protective', 'occ_sales', 'occ_admin',\n",
    "        'occ_trades', 'occ_crafts', 'occ_logistics', 'birth_usstate','birth_usterr', 'birth_europe','birth_asia',\n",
    "       'birth_americas','birth_africa','role_hoh','role_child','role_family','role_housemate',\n",
    "       'role_institution','role_group', 'race_white','race_black','race_indigenous', 'race_asian','race_other',\n",
    "       'race_multi','label']"
   ]
  },
  {
   "cell_type": "code",
   "execution_count": 63,
   "id": "27f5a2e0",
   "metadata": {},
   "outputs": [],
   "source": [
    "one_hot = pd.get_dummies(features_mod, columns=[0,1,2,3,4,5,6,9])"
   ]
  },
  {
   "cell_type": "code",
   "execution_count": 64,
   "id": "8fda89e3",
   "metadata": {},
   "outputs": [],
   "source": [
    "one_hot['label'] = label.astype('int')"
   ]
  },
  {
   "cell_type": "code",
   "execution_count": 65,
   "id": "eb0645ad",
   "metadata": {},
   "outputs": [],
   "source": [
    "one_hot_copy = pd.DataFrame()"
   ]
  },
  {
   "cell_type": "code",
   "execution_count": 66,
   "id": "0553042c",
   "metadata": {},
   "outputs": [],
   "source": [
    "for i in range(len(one_hot.columns)):\n",
    "    one_hot_copy[cols[i]] = one_hot[one_hot.columns[i]]"
   ]
  },
  {
   "cell_type": "code",
   "execution_count": 67,
   "id": "c559c5e2",
   "metadata": {},
   "outputs": [],
   "source": [
    "one_hot_copy.to_csv(\"raw_data/income.csv\",index=False)"
   ]
  },
  {
   "cell_type": "code",
   "execution_count": null,
   "id": "d1eee839",
   "metadata": {},
   "outputs": [],
   "source": []
  },
  {
   "cell_type": "code",
   "execution_count": null,
   "id": "6f30bb2c",
   "metadata": {},
   "outputs": [],
   "source": []
  }
 ],
 "metadata": {
  "interpreter": {
   "hash": "e7cb1b9ae4d417fedf7f40a8eec98f7cfbd359e096bd857395a915f4609834ce"
  },
  "kernelspec": {
   "display_name": "folkenv",
   "language": "python",
   "name": "folkenv"
  },
  "language_info": {
   "codemirror_mode": {
    "name": "ipython",
    "version": 3
   },
   "file_extension": ".py",
   "mimetype": "text/x-python",
   "name": "python",
   "nbconvert_exporter": "python",
   "pygments_lexer": "ipython3",
   "version": "3.8.10"
  }
 },
 "nbformat": 4,
 "nbformat_minor": 5
}
