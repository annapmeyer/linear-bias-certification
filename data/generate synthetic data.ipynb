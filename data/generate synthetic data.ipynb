{
 "cells": [
  {
   "cell_type": "code",
   "execution_count": 1,
   "id": "73da8276",
   "metadata": {},
   "outputs": [
    {
     "name": "stderr",
     "output_type": "stream",
     "text": [
      "<frozen importlib._bootstrap>:219: RuntimeWarning: scipy._lib.messagestream.MessageStream size changed, may indicate binary incompatibility. Expected 56 from C header, got 64 from PyObject\n"
     ]
    }
   ],
   "source": [
    "import pandas as pd\n",
    "import numpy as np\n",
    "import matplotlib.pyplot as plt\n",
    "from sklearn.model_selection import KFold\n",
    "from sklearn.preprocessing import normalize"
   ]
  },
  {
   "cell_type": "markdown",
   "id": "74ff687e",
   "metadata": {},
   "source": [
    "# Generate simple synthetic datasets \n",
    "Goal: test how dataset size and number of features impact bias-robustness"
   ]
  },
  {
   "cell_type": "code",
   "execution_count": 233,
   "id": "b605ccad",
   "metadata": {},
   "outputs": [],
   "source": [
    "mu1, mu2 = .5, -.5\n",
    "mu_x2 = 0\n",
    "mu_x3_1, mu_x3_2 =-.5,.5 # corresponds to after _ (difference between)\n",
    "mu_x4_1, mu_x4_2 = 1, -1\n",
    "mu_x5_1, mu_x5_2 = 0,0\n",
    "sigma = 1\n",
    "\n",
    "mus_pos = [mu1, mu_x2, mu_x3_1, mu_x4_1, mu_x5_1]\n",
    "mus_neg = [mu2, mu_x2, mu_x3_2, mu_x4_2, mu_x5_2]\n",
    "\n",
    "dataset_sizes = [100, 250, 500] # how many of each label? (total size = 2 * this)\n",
    "features = [3,4,5]\n",
    "\n",
    "np.random.seed(42)"
   ]
  },
  {
   "cell_type": "code",
   "execution_count": 234,
   "id": "36d5f297",
   "metadata": {},
   "outputs": [],
   "source": [
    "for num_features in features:    \n",
    "    for dataset_size in dataset_sizes:\n",
    "        x_pos = []\n",
    "        x_neg = []\n",
    "        for i in range(dataset_size):\n",
    "            for j in range(num_features):\n",
    "                x = np.random.normal(mus_pos[j], sigma)\n",
    "                x_pos.append(x)\n",
    "                x = np.random.normal(mus_neg[j], sigma)\n",
    "                x_neg.append(x)\n",
    "            \n",
    "        y_neg = [-1 for i in range(len(x_neg))]\n",
    "        y_pos = [1 for i in range(len(x_pos))]\n",
    "        x = x_neg + x_pos\n",
    "        y = y_neg + y_pos\n",
    "        df = pd.DataFrame(x)\n",
    "        df['label'] = y\n",
    "        df.to_csv(\"synth_\" + str(dataset_size) + \"_\" + str(num_features) + \".txt\", index=False)"
   ]
  },
  {
   "cell_type": "markdown",
   "id": "abff9d32",
   "metadata": {},
   "source": [
    "# Generate demographics data\n",
    "Goal: how does demographic group size impact robustness?"
   ]
  },
  {
   "cell_type": "code",
   "execution_count": 14,
   "id": "5f8115c3",
   "metadata": {},
   "outputs": [],
   "source": [
    "np.random.seed(42)"
   ]
  },
  {
   "cell_type": "code",
   "execution_count": 2,
   "id": "130ba7f2",
   "metadata": {},
   "outputs": [],
   "source": [
    "def generate_data(mu1, mu2, mu3, mu4, cov1, cov2, cov3, cov4, num1, num2, num3, num4):\n",
    "    dataset_size = 250 # 1000 data points total\n",
    "    x_pos = []\n",
    "    x_neg = []\n",
    "    for i in range(num1):\n",
    "        new_sample = np.random.multivariate_normal(mu1, cov1)\n",
    "        new_sample = np.append(new_sample, 1)\n",
    "        x_pos.append(new_sample)\n",
    "\n",
    "    for i in range(num2):\n",
    "        new_sample = np.random.multivariate_normal(mu2, cov2)\n",
    "        new_sample = np.append(new_sample, 0)\n",
    "        x_pos.append(new_sample)\n",
    "\n",
    "    for i in range(num3):\n",
    "        new_sample = np.random.multivariate_normal(mu3, cov3)\n",
    "        new_sample = np.append(new_sample, 1)\n",
    "        x_neg.append(new_sample)\n",
    "\n",
    "    for i in range(num4):\n",
    "        new_sample = np.random.multivariate_normal(mu4, cov4)\n",
    "        new_sample = np.append(new_sample, 0)\n",
    "        x_neg.append(new_sample)\n",
    "    return x_pos, x_neg"
   ]
  },
  {
   "cell_type": "code",
   "execution_count": 24,
   "id": "df1497b9",
   "metadata": {},
   "outputs": [],
   "source": [
    "mu1 = np.array([-1, 1]) \n",
    "mu2 = np.array([-2, 1]) \n",
    "mu3 = np.array([2, -1]) \n",
    "mu4 = np.array([1, -1]) \n",
    "cov1, cov2 = np.array([[0.5, 0.1], [0.1, 0.5]]), np.array([[0.5, 0.1], [0.1, 0.5]])\n",
    "cov3, cov4 = np.array([[0.5, 0.1], [0.1, 0.5]]), np.array([[0.5, 0.1], [0.1, 0.5]])\n",
    "\n",
    "min_group_size = [100,200,300,400,500,600,700,800,900,1000]"
   ]
  },
  {
   "cell_type": "code",
   "execution_count": 25,
   "id": "c08ab578",
   "metadata": {},
   "outputs": [],
   "source": [
    "for size in min_group_size:\n",
    "    x_pos, x_neg = generate_data(mu1, mu2, mu3, mu4, cov1, cov2, cov3, cov4, 2000-size, size, 2000-size, size)\n",
    "    x1_coord_neg = [i[0] for i in x_neg]\n",
    "    x2_coord_neg = [i[1] for i in x_neg]\n",
    "    x1_coord_pos = [i[0] for i in x_pos]\n",
    "    x2_coord_pos = [i[1] for i in x_pos]\n",
    "    label_neg = [i[2] for i in x_neg]\n",
    "    label_pos = [i[2] for i in x_pos]\n",
    "\n",
    "    y_neg = [-1 for i in range(len(x_neg))]\n",
    "    y_pos = [1 for i in range(len(x_pos))]\n",
    "    x = x_neg + x_pos\n",
    "    y = y_neg + y_pos\n",
    "    df = pd.DataFrame(x)\n",
    "    df['label'] = y\n",
    "    df.to_csv(\"demo_\" + str(size) + \".csv\",index=False)"
   ]
  },
  {
   "cell_type": "code",
   "execution_count": 44,
   "id": "5de9f0de",
   "metadata": {},
   "outputs": [],
   "source": []
  }
 ],
 "metadata": {
  "kernelspec": {
   "display_name": "Python 3",
   "language": "python",
   "name": "python3"
  },
  "language_info": {
   "codemirror_mode": {
    "name": "ipython",
    "version": 3
   },
   "file_extension": ".py",
   "mimetype": "text/x-python",
   "name": "python",
   "nbconvert_exporter": "python",
   "pygments_lexer": "ipython3",
   "version": "3.8.10"
  }
 },
 "nbformat": 4,
 "nbformat_minor": 5
}
