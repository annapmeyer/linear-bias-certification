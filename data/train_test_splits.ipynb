{
 "cells": [
  {
   "cell_type": "code",
   "execution_count": 2,
   "id": "438d3a3e",
   "metadata": {},
   "outputs": [],
   "source": [
    "import pandas as pd\n",
    "from sklearn.model_selection import train_test_split\n",
    "from sklearn.model_selection import KFold"
   ]
  },
  {
   "attachments": {},
   "cell_type": "markdown",
   "id": "8d1a9334",
   "metadata": {},
   "source": [
    "# Generate train-test-validation splits\n",
    "To generate train-test splits using k-fold cross validation, replace the 3rd line of code (datasets=['income', 'hmda']) with the a list of the names of the datasets of your choice. The code expects that the label column will be labeled 'label'. \n",
    "\n",
    "If you want fewer (or more than) 10 folds, change the num_splits=10 line below, as well.\n"
   ]
  },
  {
   "cell_type": "code",
   "execution_count": 11,
   "id": "6f293e97",
   "metadata": {},
   "outputs": [],
   "source": [
    "\n",
    "extension = '.csv'\n",
    "num_splits = 10\n",
    "datasets=['income','hmda']\n",
    "for dataset in datasets:\n",
    "    data = pd.read_csv(dataset + extension)\n",
    "    \n",
    "    y = data['label'].to_numpy()\n",
    "    X = data.drop(columns=['label']).to_numpy()\n",
    "\n",
    "    kf = KFold(n_splits=num_splits,shuffle=True,random_state=42)\n",
    "    i = 0\n",
    "    for train_index, test_index in kf.split(X):\n",
    "        X_train, X_test = X[train_index], X[test_index]\n",
    "        y_train, y_test = y[train_index], y[test_index]\n",
    "\n",
    "        X_train, X_val, y_train, y_val = train_test_split(X_train, y_train, test_size=1/(num_splits-1), random_state=42)\n",
    "\n",
    "        X_train = pd.DataFrame(X_train, columns = data.drop(columns=['label']).columns)\n",
    "        X_test = pd.DataFrame(X_test, columns = data.drop(columns=['label']).columns)\n",
    "        X_val = pd.DataFrame(X_val, columns = data.drop(columns=['label']).columns)\n",
    "\n",
    "        y_train = pd.Series(y_train).reset_index(drop=True)\n",
    "        y_test = pd.Series(y_test).reset_index(drop=True)\n",
    "        y_val = pd.Series(y_val).reset_index(drop=True)\n",
    "\n",
    "        X_train['label'] = y_train\n",
    "        X_test['label'] = y_test\n",
    "        X_val['label'] = y_val\n",
    "\n",
    "        X_train.to_csv(\"data/train_\" + dataset + \"_\" + str(i) + \".csv\", index=False)\n",
    "        X_test.to_csv(\"data/test_\" + dataset + \"_\" + str(i) + \".csv\", index=False)\n",
    "        X_val.to_csv(\"data/val_\" + dataset + \"_\" + str(i) + \".csv\", index=False)\n",
    "\n",
    "        i += 1\n",
    "\n"
   ]
  },
  {
   "cell_type": "code",
   "execution_count": null,
   "id": "d1a6f6a3",
   "metadata": {},
   "outputs": [],
   "source": []
  },
  {
   "cell_type": "code",
   "execution_count": null,
   "id": "08636646",
   "metadata": {},
   "outputs": [],
   "source": []
  }
 ],
 "metadata": {
  "kernelspec": {
   "display_name": "Python 3",
   "language": "python",
   "name": "python3"
  },
  "language_info": {
   "codemirror_mode": {
    "name": "ipython",
    "version": 3
   },
   "file_extension": ".py",
   "mimetype": "text/x-python",
   "name": "python",
   "nbconvert_exporter": "python",
   "pygments_lexer": "ipython3",
   "version": "3.8.10"
  }
 },
 "nbformat": 4,
 "nbformat_minor": 5
}
