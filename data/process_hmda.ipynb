{
 "cells": [
  {
   "attachments": {},
   "cell_type": "markdown",
   "metadata": {},
   "source": [
    "# Processing HDMA data\n",
    "Downloaded 2019 LAR data from https://ffiec.cfpb.gov/data-publication/2019 "
   ]
  },
  {
   "attachments": {},
   "cell_type": "markdown",
   "metadata": {},
   "source": [
    "Note: in final dataset, index for race is 10, with 1=Black and index for gender is 11 with 1=Female\n"
   ]
  },
  {
   "cell_type": "code",
   "execution_count": 2,
   "metadata": {},
   "outputs": [],
   "source": [
    "import pandas as pd\n",
    "from sklearn.model_selection import train_test_split\n",
    "from sklearn.model_selection import KFold"
   ]
  },
  {
   "cell_type": "code",
   "execution_count": 3,
   "metadata": {},
   "outputs": [],
   "source": [
    "# set max columns to 100\n",
    "pd.set_option('display.max_columns', 100)"
   ]
  },
  {
   "attachments": {},
   "cell_type": "markdown",
   "metadata": {},
   "source": [
    "## Basic preprocessing\n",
    "* Drop columns that we will not use. Some columns (eg, interest_rate, rate_spread) are dropped because they are missing values for loans that were denied\n",
    "* Iterate through dataframe in chunks (it's too large to do all at once)\n",
    "* * Drop rows where race or sex is not available or 'joint' or where age is missing\n",
    "* * Drop rows where income, conforming loan limit, combined loan to value ratio, debt to income ratio, or property value is NAN\n",
    "* * Drop rows where business or commercial purpose, property value, or interest_only_payment is exempt\n",
    "* * Limit data to these values because the vast majority of samples fall into these categories \n",
    "* * * conforming loan limit == C \n",
    "* * * derived dwelling category = Single family/site built\n",
    "* * * loan type = 1 (conventional, not backed by FHA, VA, RHS or FSA)\n",
    "* * * loan purpose = 2 (home purchase)\n",
    "* * * site_built = 1\n",
    "* Save each processed chunk as a CSV"
   ]
  },
  {
   "cell_type": "code",
   "execution_count": 102,
   "metadata": {},
   "outputs": [],
   "source": [
    "columns_to_drop = ['activity_year', 'derived_ethnicity', 'applicant_credit_score_type', 'co_applicant_credit_score_type',\n",
    "                    'applicant_ethnicity_1', 'applicant_ethnicity_2', 'applicant_ethnicity_3', 'applicant_ethnicity_4',\n",
    "                    'applicant_ethnicity_5', 'co_applicant_ethnicity_1', 'co_applicant_ethnicity_2', 'co_applicant_ethnicity_3',\n",
    "                    'co_applicant_ethnicity_4', 'co_applicant_ethnicity_5', 'applicant_ethnicity_observed', \n",
    "                    'co_applicant_ethnicity_observed', 'applicant_race_1', 'applicant_race_2', 'applicant_race_3', 'applicant_race_4',\n",
    "                    'applicant_race_5', 'co_applicant_race_1', 'co_applicant_race_2', 'co_applicant_race_3', 'co_applicant_race_4',\n",
    "                    'co_applicant_race_5', 'applicant_race_observed', 'co_applicant_race_observed', 'applicant_sex', 'co_applicant_sex',\n",
    "                    'applicant_sex_observed', 'co_applicant_sex_observed', 'co_applicant_age', 'applicant_age_above_62', \n",
    "                    'co_applicant_age_above_62', 'denial_reason_1', 'denial_reason_2', 'denial_reason_3', 'denial_reason_4', \n",
    "                    'lei', 'county_code', 'derived_msa_md', 'census_tract', 'tract_population', 'tract_minority_population_percent',\n",
    "                    'ffiec_msa_md_median_family_income', 'tract_owner_occupied_units', \n",
    "                    'tract_one_to_four_family_homes', 'tract_median_age_of_housing_units', 'tract_to_msa_income_percentage', \n",
    "                    'aus_1', 'aus_2', 'aus_3', 'aus_4', 'aus_5', 'total_loan_costs', 'total_points_and_fees', 'origination_charges',\n",
    "                    'discount_points', 'lender_credits', 'multifamily_affordable_units', 'intro_rate_period', 'prepayment_penalty_term',\n",
    "                    'submission_of_application', 'initially_payable_to_institution', 'manufactured_home_secured_property_type',\n",
    "                    'manufactured_home_land_property_interest', 'derived_loan_product_type', 'purchaser_type',\n",
    "                    'preapproval', 'lien_status', 'reverse_mortgage', 'open_end_line_of_credit', 'other_nonamortizing_features', \n",
    "                    'balloon_payment', 'negative_amortization', 'interest_only_payment', 'interest_rate', 'rate_spread']"
   ]
  },
  {
   "cell_type": "code",
   "execution_count": 103,
   "metadata": {},
   "outputs": [],
   "source": [
    "chunksize = 10 ** 6\n",
    "i=0\n",
    "with pd.read_csv('2019_public_lar_one_year.csv', chunksize=chunksize, low_memory=False) as reader:\n",
    "    for chunk in reader:\n",
    "        chunk = chunk.drop(columns=columns_to_drop)\n",
    "        chunk.head()\n",
    "\n",
    "        chunk = chunk[chunk['derived_race'] != 'Race Not Available']\n",
    "        chunk = chunk[chunk['derived_race'] != 'Joint']\n",
    "        chunk = chunk[chunk['derived_sex'] != 'Sex Not Available']\n",
    "        chunk = chunk[chunk['derived_sex'] != 'Joint']\n",
    "\n",
    "        chunk = chunk.dropna(subset=['income', 'conforming_loan_limit', 'combined_loan_to_value_ratio',\n",
    "                                        'debt_to_income_ratio', 'property_value', 'loan_term'])\n",
    "\n",
    "        chunk = chunk[chunk['conforming_loan_limit'] == 'C']\n",
    "        chunk = chunk[chunk['derived_dwelling_category'] == 'Single Family (1-4 Units):Site-Built']\n",
    "\n",
    "        chunk = chunk[chunk.business_or_commercial_purpose != 1111]\n",
    "        chunk = chunk[chunk.property_value != 'Exempt']\n",
    "        chunk = chunk[chunk.debt_to_income_ratio != 'Exempt']\n",
    "        chunk = chunk[chunk.applicant_age != '8888']\n",
    "\n",
    "        # create a new column that is 0 if 'action_taken' is 1 or 2 and 1 if 'action_taken' is 3 and -1 otherwise\n",
    "        chunk['action_taken'] = chunk['action_taken'].apply(lambda x: 0 if x == 1 or x == 2 else 1 if x == 3 else -1)\n",
    "        chunk = chunk[chunk['action_taken'] != -1]\n",
    "        \n",
    "\n",
    "        chunk = chunk[chunk.loan_type == 1]\n",
    "        chunk = chunk[chunk.loan_purpose == 1]\n",
    "        chunk = chunk[chunk.construction_method == 1]\n",
    "        chunk = chunk.drop(columns=['conforming_loan_limit', 'derived_dwelling_category', 'loan_type', 'loan_purpose', 'construction_method'])\n",
    "        \n",
    "        # print(type(chunk))\n",
    "        chunk.to_csv('hmda' + str(i) + '.csv', index=False)\n",
    "        i+=1\n",
    "        \n"
   ]
  },
  {
   "attachments": {},
   "cell_type": "markdown",
   "metadata": {},
   "source": [
    "Now, load all pieces into a single dataframe - hopefully it will fit?"
   ]
  },
  {
   "cell_type": "code",
   "execution_count": 104,
   "metadata": {},
   "outputs": [],
   "source": [
    "columns = chunk.columns"
   ]
  },
  {
   "cell_type": "code",
   "execution_count": 172,
   "metadata": {},
   "outputs": [],
   "source": [
    "df = pd.DataFrame(columns=columns)\n",
    "for i in range(18):\n",
    "    df = pd.concat([df, pd.read_csv('hmda' + str(i) + '.csv', low_memory=False)])"
   ]
  },
  {
   "attachments": {},
   "cell_type": "markdown",
   "metadata": {},
   "source": [
    "## Encode categorical features"
   ]
  },
  {
   "attachments": {},
   "cell_type": "markdown",
   "metadata": {},
   "source": [
    "Columns to use if we need to further limit the data, but to delete before use\n",
    "* state_code\n",
    "\n",
    "Columns that are categorical and need to be integer-coded\n",
    "* derived_race\n",
    "* derived_sex\n",
    "* action_taken (this is the label and is already binary, but right now 0 is accept, so switch that)\n",
    "* business_or_commerial_purpose\n",
    "* hoepa_status\n",
    "* debt_to_income_ratio\n",
    "* occupancy_type\n",
    "* applicant_age\n",
    "\n",
    "Columns that are already numerical \n",
    "* loan_amount\n",
    "* combined_loan_to_value_ratio\n",
    "* loan_term\n",
    "* property_value\n",
    "* total_units\n",
    "* income"
   ]
  },
  {
   "cell_type": "code",
   "execution_count": 173,
   "metadata": {},
   "outputs": [],
   "source": [
    "race_white = pd.Series([1 if x == 'White' else 0 for x in df.derived_race])\n",
    "race_black = pd.Series([1 if x == 'Black or African American' else 0 for x in df.derived_race])\n",
    "sex_female = pd.Series([1 if x == 'Female' else 0 for x in df.derived_sex])\n",
    "label = pd.Series([1 if x == 0 else -1 for x in df.action_taken])\n",
    "business_purpose = pd.Series([1 if x  == 1 else 0 for x in df.business_or_commercial_purpose])\n",
    "hoepa = pd.Series([1 if x == 1 else 0 for x in df.hoepa_status]) # count NA as not a high-cost mortgage\n",
    "not_principal_residence = pd.Series([0 if x == 1 else 1 for x in df.occupancy_type])\n"
   ]
  },
  {
   "cell_type": "code",
   "execution_count": 174,
   "metadata": {},
   "outputs": [],
   "source": [
    "debt_to_income_mapping = {'<20%': 15, '20%-<30%' : 25, '30%-<36%' : 33, '36' : 36, '37' : 37, '38':38, '39':39,\n",
    "                        '40': 40, '41':41, '42': 42, '43':43, '44':44, '45':45, '46':46, '47':47, '48':48, '49':49,\n",
    "                        '50%-60%': 55, '>60%' : 65}\n",
    "debt_to_income_rat = pd.Series([debt_to_income_mapping[x] for x in df.debt_to_income_ratio])\n"
   ]
  },
  {
   "cell_type": "code",
   "execution_count": 175,
   "metadata": {},
   "outputs": [],
   "source": [
    "age_mapping = {'<25': 20, '25-34': 30, '35-44': 40, '45-54': 50, '55-64': 60, '65-74': 70, '>74': 80}\n",
    "age = pd.Series([age_mapping[x] for x in df.applicant_age])"
   ]
  },
  {
   "cell_type": "code",
   "execution_count": 176,
   "metadata": {},
   "outputs": [],
   "source": [
    "df = df.drop(columns=['derived_race', 'derived_sex', 'action_taken', 'business_or_commercial_purpose', 'hoepa_status', \n",
    "                         'occupancy_type', 'debt_to_income_ratio', 'applicant_age'])\n",
    "\n",
    "df['business_purpose'] = business_purpose\n",
    "df['hoepa'] = hoepa\n",
    "df['not_principal_residence'] = not_principal_residence\n",
    "df['debt_to_income_ratio'] = debt_to_income_rat\n",
    "df['race_white'] = race_white\n",
    "df['race_black'] = race_black\n",
    "df['female'] = sex_female\n",
    "df['age'] = age\n",
    "df['label'] = label"
   ]
  },
  {
   "cell_type": "code",
   "execution_count": 177,
   "metadata": {},
   "outputs": [],
   "source": [
    "df.to_csv('hmda_all.csv', index=False)"
   ]
  },
  {
   "cell_type": "code",
   "execution_count": 178,
   "metadata": {},
   "outputs": [],
   "source": [
    "all = pd.read_csv('hmda_all.csv')"
   ]
  },
  {
   "attachments": {},
   "cell_type": "markdown",
   "metadata": {},
   "source": [
    "## Subsampling\n",
    "We want the data to be approximately balanced across race (since we are not attempting to study the impact of size of minority groups on fairrness) and also across the label (since we are not focusing on learning under label imbalance).\n",
    "\n",
    "Since the data skews heavily towards White people and approved loans, we will be limited by the availability of suitable data points. But, there are still plenty of data points to obtain a large-enough balanced dataset."
   ]
  },
  {
   "cell_type": "code",
   "execution_count": 179,
   "metadata": {},
   "outputs": [],
   "source": [
    "# subsample from the data to balance label and race\n",
    "balanced_race = pd.concat([df[df.race_black == 1].sample(n=110000, random_state=1129), df[df.race_white == 1].sample(n=110000, random_state=1129)])\n",
    "\n",
    "balanced_race = balanced_race.drop(columns=['race_white']) # duplicate info with race_black, now\n"
   ]
  },
  {
   "cell_type": "code",
   "execution_count": 182,
   "metadata": {},
   "outputs": [],
   "source": [
    "result = pd.concat([balanced_race[balanced_race.label == 1].sample(n=20000, random_state=1129),\n",
    "                balanced_race[balanced_race.label == -1].sample(n=20000, random_state=1129)])"
   ]
  },
  {
   "cell_type": "code",
   "execution_count": 183,
   "metadata": {},
   "outputs": [],
   "source": [
    "result = result.drop(columns=['state_code'])"
   ]
  },
  {
   "cell_type": "code",
   "execution_count": 184,
   "metadata": {},
   "outputs": [],
   "source": [
    "result.to_csv('hmda_balanced.csv', index=False)"
   ]
  },
  {
   "cell_type": "code",
   "execution_count": 4,
   "metadata": {},
   "outputs": [],
   "source": [
    "data = pd.read_csv('hmda_balanced.csv')"
   ]
  },
  {
   "attachments": {},
   "cell_type": "markdown",
   "metadata": {},
   "source": [
    "## Train/test split\n",
    "Train/test split the data into 10 folds to be able to provide averages across multiple random splits."
   ]
  },
  {
   "cell_type": "code",
   "execution_count": 20,
   "metadata": {},
   "outputs": [],
   "source": [
    "y = data['label'].to_numpy()\n",
    "X = data.drop(columns=['label']).to_numpy()\n",
    "\n",
    "num_splits = 10\n",
    "dataset = 'hmda'\n",
    "kf = KFold(n_splits=num_splits,shuffle=True,random_state=42)\n",
    "i = 0\n",
    "for train_index, test_index in kf.split(X):\n",
    "    X_train, X_test = X[train_index], X[test_index]\n",
    "    y_train, y_test = y[train_index], y[test_index]\n",
    "\n",
    "    X_train, X_val, y_train, y_val = train_test_split(X_train, y_train, test_size=1/(num_splits-1), random_state=42) #41 testing other\n",
    "\n",
    "    #     scaler = StandardScaler().fit(X_train)\n",
    "    #     X_train = scaler.transform(X_train)\n",
    "    #     X_test = scaler.transform(X_test)\n",
    "    #     X_val = scaler.transform(X_val)\n",
    "\n",
    "    X_train = pd.DataFrame(X_train, columns = data.drop(columns=['label']).columns)\n",
    "    X_test = pd.DataFrame(X_test, columns = data.drop(columns=['label']).columns)\n",
    "    X_val = pd.DataFrame(X_val, columns = data.drop(columns=['label']).columns)\n",
    "\n",
    "    y_train = pd.Series(y_train).reset_index(drop=True)\n",
    "    y_test = pd.Series(y_test).reset_index(drop=True)\n",
    "    y_val = pd.Series(y_val).reset_index(drop=True)\n",
    "\n",
    "    X_train['label'] = y_train\n",
    "    X_test['label'] = y_test\n",
    "    X_val['label'] = y_val\n",
    "\n",
    "    X_train.to_csv(\"./\" + dataset + \"_train\" + str(i) + \".csv\", index=False)\n",
    "    X_test.to_csv(\"./\" + dataset + \"_test\" + str(i) + \".csv\", index=False)\n",
    "    X_val.to_csv(\"./\" + dataset + \"_val\" + str(i) + \".csv\", index=False)\n",
    "\n",
    "    i += 1"
   ]
  },
  {
   "attachments": {},
   "cell_type": "markdown",
   "metadata": {},
   "source": [
    "## Test basic models"
   ]
  },
  {
   "cell_type": "code",
   "execution_count": 187,
   "metadata": {},
   "outputs": [],
   "source": [
    "# import log reg model\n",
    "from sklearn.linear_model import LogisticRegression\n",
    "# import decision tree\n",
    "from sklearn.tree import DecisionTreeClassifier\n",
    "# import random forest\n",
    "from sklearn.ensemble import RandomForestClassifier\n",
    "# import standard scalar\n",
    "from sklearn.preprocessing import StandardScaler"
   ]
  },
  {
   "cell_type": "code",
   "execution_count": 209,
   "metadata": {},
   "outputs": [],
   "source": [
    "lr_acc, dt_acc, rf_acc = [], [], []\n",
    "for i in range(10):\n",
    "    train = pd.read_csv('hmda_train' + str(i) +'.csv')\n",
    "    test = pd.read_csv('hmda_test' + str(i) + '.csv')\n",
    "    X_train = train.drop(columns=['label'])\n",
    "    y_train = train.label\n",
    "    X_test = test.drop(columns=['label'])\n",
    "    y_test = test.label\n",
    "\n",
    "    model = DecisionTreeClassifier(max_depth=10, min_samples_leaf=10)\n",
    "    model.fit(X_train, y_train)\n",
    "    y_pred = model.predict(X_test)\n",
    "    dt_acc.append(accuracy_score(y_test, y_pred))\n",
    "\n",
    "    model = RandomForestClassifier(max_depth=3, n_estimators=100)\n",
    "    model.fit(X_train, y_train)\n",
    "    y_pred = model.predict(X_test)\n",
    "    rf_acc.append(accuracy_score(y_test, y_pred))\n",
    "\n",
    "    model = LogisticRegression(solver='saga', max_iter=1000)\n",
    "    scalar = StandardScaler()\n",
    "    X_train = scalar.fit_transform(X_train)\n",
    "    X_test = scalar.transform(X_test)\n",
    "\n",
    "    model.fit(X_train, y_train)\n",
    "    y_pred = model.predict(X_test)\n",
    "\n",
    "    from sklearn.metrics import accuracy_score\n",
    "    lr_acc.append(accuracy_score(y_test, y_pred))"
   ]
  },
  {
   "cell_type": "code",
   "execution_count": 210,
   "metadata": {},
   "outputs": [
    {
     "data": {
      "text/plain": [
       "0.6222874999999999"
      ]
     },
     "execution_count": 210,
     "metadata": {},
     "output_type": "execute_result"
    }
   ],
   "source": [
    "sum(lr_acc)/len(lr_acc)"
   ]
  },
  {
   "cell_type": "code",
   "execution_count": 211,
   "metadata": {},
   "outputs": [
    {
     "data": {
      "text/plain": [
       "0.6541250000000001"
      ]
     },
     "execution_count": 211,
     "metadata": {},
     "output_type": "execute_result"
    }
   ],
   "source": [
    "sum(dt_acc)/len(dt_acc)"
   ]
  },
  {
   "cell_type": "code",
   "execution_count": 212,
   "metadata": {},
   "outputs": [
    {
     "data": {
      "text/plain": [
       "0.6451125"
      ]
     },
     "execution_count": 212,
     "metadata": {},
     "output_type": "execute_result"
    }
   ],
   "source": [
    "sum(rf_acc)/len(rf_acc)"
   ]
  },
  {
   "cell_type": "code",
   "execution_count": 94,
   "metadata": {},
   "outputs": [],
   "source": [
    "import numpy as np"
   ]
  },
  {
   "cell_type": "code",
   "execution_count": 95,
   "metadata": {},
   "outputs": [],
   "source": [
    "ary = np.array(data)"
   ]
  },
  {
   "cell_type": "code",
   "execution_count": 98,
   "metadata": {},
   "outputs": [
    {
     "name": "stderr",
     "output_type": "stream",
     "text": [
      "/Users/annameyer/miniforge3/lib/python3.10/site-packages/numpy/lib/function_base.py:2853: RuntimeWarning: invalid value encountered in divide\n",
      "  c /= stddev[:, None]\n",
      "/Users/annameyer/miniforge3/lib/python3.10/site-packages/numpy/lib/function_base.py:2854: RuntimeWarning: invalid value encountered in divide\n",
      "  c /= stddev[None, :]\n"
     ]
    }
   ],
   "source": [
    "# find correlationof ary\n",
    "corr = np.corrcoef(ary, rowvar=False)"
   ]
  },
  {
   "cell_type": "code",
   "execution_count": 101,
   "metadata": {},
   "outputs": [
    {
     "data": {
      "text/plain": [
       "array([1])"
      ]
     },
     "execution_count": 101,
     "metadata": {},
     "output_type": "execute_result"
    }
   ],
   "source": [
    "data.site_built.unique()"
   ]
  },
  {
   "cell_type": "code",
   "execution_count": 165,
   "metadata": {},
   "outputs": [],
   "source": [
    "y_train = [1 if x == 1 else -1 for x in y_train]\n",
    "y_test = [1 if x == 1 else -1 for x in y_test]"
   ]
  },
  {
   "cell_type": "code",
   "execution_count": null,
   "metadata": {},
   "outputs": [],
   "source": []
  },
  {
   "cell_type": "code",
   "execution_count": 204,
   "metadata": {},
   "outputs": [],
   "source": [
    "prd = np.matmul(X_train.T, X_train)\n",
    "pinv = np.linalg.pinv(prd - 1* np.identity(prd.shape[0]))\n",
    "w = np.matmul(np.matmul(pinv, X_train.T), y_train)"
   ]
  },
  {
   "cell_type": "code",
   "execution_count": 205,
   "metadata": {},
   "outputs": [
    {
     "data": {
      "text/plain": [
       "array([ 0.00900511,  0.008506  ,  0.00838206,  0.00735305, -0.00274628,\n",
       "       -0.00500112, -0.00715401,  0.00740463, -0.02463459, -0.22247714,\n",
       "       -0.18733041,  0.02074614, -0.05510479])"
      ]
     },
     "execution_count": 205,
     "metadata": {},
     "output_type": "execute_result"
    }
   ],
   "source": [
    "w"
   ]
  },
  {
   "cell_type": "code",
   "execution_count": 206,
   "metadata": {},
   "outputs": [],
   "source": [
    "preds = np.matmul(w, X_test.T)"
   ]
  },
  {
   "cell_type": "code",
   "execution_count": 207,
   "metadata": {},
   "outputs": [],
   "source": [
    "preds = np.array([1 if x > 0 else -1 for x in preds])"
   ]
  },
  {
   "cell_type": "code",
   "execution_count": 208,
   "metadata": {},
   "outputs": [
    {
     "data": {
      "text/plain": [
       "0.61775"
      ]
     },
     "execution_count": 208,
     "metadata": {},
     "output_type": "execute_result"
    }
   ],
   "source": [
    "# import accuracy\n",
    "from sklearn.metrics import accuracy_score\n",
    "# calculate accuracy\n",
    "accuracy_score(y_test, preds)"
   ]
  },
  {
   "cell_type": "code",
   "execution_count": null,
   "metadata": {},
   "outputs": [],
   "source": [
    "23212 - B"
   ]
  },
  {
   "cell_type": "code",
   "execution_count": 9,
   "metadata": {},
   "outputs": [
    {
     "data": {
      "text/plain": [
       "40000"
      ]
     },
     "execution_count": 9,
     "metadata": {},
     "output_type": "execute_result"
    }
   ],
   "source": [
    "len(data)"
   ]
  },
  {
   "cell_type": "code",
   "execution_count": 18,
   "metadata": {},
   "outputs": [],
   "source": [
    "white = data[data.race_black == 0]"
   ]
  },
  {
   "cell_type": "code",
   "execution_count": 22,
   "metadata": {},
   "outputs": [
    {
     "data": {
      "text/plain": [
       "16788"
      ]
     },
     "execution_count": 22,
     "metadata": {},
     "output_type": "execute_result"
    }
   ],
   "source": [
    "len(white)"
   ]
  },
  {
   "attachments": {},
   "cell_type": "markdown",
   "metadata": {},
   "source": [
    "23212 - Black (58.0%) so, White (42.0%)\n",
    "\n",
    "20063 - Female (50.2%), so Male, (49.8%)\n",
    "\n",
    "13056 - Black Female (32.6%), so, Black Male (25.4%)\n",
    "\n",
    "7007 - White Female (17.5%), so, White Male (24.5%)"
   ]
  },
  {
   "cell_type": "code",
   "execution_count": 24,
   "metadata": {},
   "outputs": [],
   "source": [
    "data_inc = pd.read_csv('../income/income.csv')"
   ]
  },
  {
   "cell_type": "code",
   "execution_count": 29,
   "metadata": {},
   "outputs": [],
   "source": [
    "fem = data_inc[data_inc.sex_male == 0]"
   ]
  },
  {
   "cell_type": "code",
   "execution_count": 35,
   "metadata": {},
   "outputs": [
    {
     "data": {
      "text/html": [
       "<div>\n",
       "<style scoped>\n",
       "    .dataframe tbody tr th:only-of-type {\n",
       "        vertical-align: middle;\n",
       "    }\n",
       "\n",
       "    .dataframe tbody tr th {\n",
       "        vertical-align: top;\n",
       "    }\n",
       "\n",
       "    .dataframe thead th {\n",
       "        text-align: right;\n",
       "    }\n",
       "</style>\n",
       "<table border=\"1\" class=\"dataframe\">\n",
       "  <thead>\n",
       "    <tr style=\"text-align: right;\">\n",
       "      <th></th>\n",
       "      <th>hours_worked_over40</th>\n",
       "      <th>sex_male</th>\n",
       "      <th>age_under35</th>\n",
       "      <th>age_35to55</th>\n",
       "      <th>age_over55</th>\n",
       "      <th>work_forprofit</th>\n",
       "      <th>work_nonprofit</th>\n",
       "      <th>work_gov</th>\n",
       "      <th>work_selfemploy</th>\n",
       "      <th>education_noHS</th>\n",
       "      <th>education_HS</th>\n",
       "      <th>education_college</th>\n",
       "      <th>rel_married</th>\n",
       "      <th>rel_divorced</th>\n",
       "      <th>rel_single</th>\n",
       "      <th>occ_business</th>\n",
       "      <th>occ_science</th>\n",
       "      <th>occ_social</th>\n",
       "      <th>occ_protective</th>\n",
       "      <th>occ_sales</th>\n",
       "      <th>occ_admin</th>\n",
       "      <th>occ_trades</th>\n",
       "      <th>occ_crafts</th>\n",
       "      <th>occ_logistics</th>\n",
       "      <th>birth_usstate</th>\n",
       "      <th>birth_usterr</th>\n",
       "      <th>birth_europe</th>\n",
       "      <th>birth_asia</th>\n",
       "      <th>birth_americas</th>\n",
       "      <th>birth_africa</th>\n",
       "      <th>role_hoh</th>\n",
       "      <th>role_child</th>\n",
       "      <th>role_family</th>\n",
       "      <th>role_housemate</th>\n",
       "      <th>role_institution</th>\n",
       "      <th>role_group</th>\n",
       "      <th>race_white</th>\n",
       "      <th>race_black</th>\n",
       "      <th>race_indigenous</th>\n",
       "      <th>race_asian</th>\n",
       "      <th>race_other</th>\n",
       "      <th>race_multi</th>\n",
       "      <th>label</th>\n",
       "    </tr>\n",
       "  </thead>\n",
       "  <tbody>\n",
       "    <tr>\n",
       "      <th>1</th>\n",
       "      <td>1</td>\n",
       "      <td>0</td>\n",
       "      <td>1</td>\n",
       "      <td>0</td>\n",
       "      <td>0</td>\n",
       "      <td>1</td>\n",
       "      <td>0</td>\n",
       "      <td>0</td>\n",
       "      <td>0</td>\n",
       "      <td>0</td>\n",
       "      <td>1</td>\n",
       "      <td>0</td>\n",
       "      <td>0</td>\n",
       "      <td>0</td>\n",
       "      <td>1</td>\n",
       "      <td>0</td>\n",
       "      <td>0</td>\n",
       "      <td>0</td>\n",
       "      <td>0</td>\n",
       "      <td>0</td>\n",
       "      <td>1</td>\n",
       "      <td>0</td>\n",
       "      <td>0</td>\n",
       "      <td>0</td>\n",
       "      <td>1</td>\n",
       "      <td>0</td>\n",
       "      <td>0</td>\n",
       "      <td>0</td>\n",
       "      <td>0</td>\n",
       "      <td>0</td>\n",
       "      <td>0</td>\n",
       "      <td>0</td>\n",
       "      <td>0</td>\n",
       "      <td>0</td>\n",
       "      <td>0</td>\n",
       "      <td>1</td>\n",
       "      <td>1</td>\n",
       "      <td>0</td>\n",
       "      <td>0</td>\n",
       "      <td>0</td>\n",
       "      <td>0</td>\n",
       "      <td>0</td>\n",
       "      <td>0</td>\n",
       "    </tr>\n",
       "    <tr>\n",
       "      <th>4</th>\n",
       "      <td>0</td>\n",
       "      <td>0</td>\n",
       "      <td>1</td>\n",
       "      <td>0</td>\n",
       "      <td>0</td>\n",
       "      <td>1</td>\n",
       "      <td>0</td>\n",
       "      <td>0</td>\n",
       "      <td>0</td>\n",
       "      <td>0</td>\n",
       "      <td>1</td>\n",
       "      <td>0</td>\n",
       "      <td>0</td>\n",
       "      <td>0</td>\n",
       "      <td>1</td>\n",
       "      <td>0</td>\n",
       "      <td>1</td>\n",
       "      <td>0</td>\n",
       "      <td>0</td>\n",
       "      <td>0</td>\n",
       "      <td>0</td>\n",
       "      <td>0</td>\n",
       "      <td>0</td>\n",
       "      <td>0</td>\n",
       "      <td>1</td>\n",
       "      <td>0</td>\n",
       "      <td>0</td>\n",
       "      <td>0</td>\n",
       "      <td>0</td>\n",
       "      <td>0</td>\n",
       "      <td>0</td>\n",
       "      <td>0</td>\n",
       "      <td>0</td>\n",
       "      <td>0</td>\n",
       "      <td>0</td>\n",
       "      <td>1</td>\n",
       "      <td>1</td>\n",
       "      <td>0</td>\n",
       "      <td>0</td>\n",
       "      <td>0</td>\n",
       "      <td>0</td>\n",
       "      <td>0</td>\n",
       "      <td>0</td>\n",
       "    </tr>\n",
       "    <tr>\n",
       "      <th>6</th>\n",
       "      <td>0</td>\n",
       "      <td>0</td>\n",
       "      <td>1</td>\n",
       "      <td>0</td>\n",
       "      <td>0</td>\n",
       "      <td>1</td>\n",
       "      <td>0</td>\n",
       "      <td>0</td>\n",
       "      <td>0</td>\n",
       "      <td>0</td>\n",
       "      <td>1</td>\n",
       "      <td>0</td>\n",
       "      <td>0</td>\n",
       "      <td>0</td>\n",
       "      <td>1</td>\n",
       "      <td>0</td>\n",
       "      <td>0</td>\n",
       "      <td>0</td>\n",
       "      <td>0</td>\n",
       "      <td>0</td>\n",
       "      <td>0</td>\n",
       "      <td>0</td>\n",
       "      <td>0</td>\n",
       "      <td>1</td>\n",
       "      <td>1</td>\n",
       "      <td>0</td>\n",
       "      <td>0</td>\n",
       "      <td>0</td>\n",
       "      <td>0</td>\n",
       "      <td>0</td>\n",
       "      <td>0</td>\n",
       "      <td>0</td>\n",
       "      <td>0</td>\n",
       "      <td>0</td>\n",
       "      <td>0</td>\n",
       "      <td>1</td>\n",
       "      <td>1</td>\n",
       "      <td>0</td>\n",
       "      <td>0</td>\n",
       "      <td>0</td>\n",
       "      <td>0</td>\n",
       "      <td>0</td>\n",
       "      <td>0</td>\n",
       "    </tr>\n",
       "    <tr>\n",
       "      <th>8</th>\n",
       "      <td>0</td>\n",
       "      <td>0</td>\n",
       "      <td>1</td>\n",
       "      <td>0</td>\n",
       "      <td>0</td>\n",
       "      <td>0</td>\n",
       "      <td>1</td>\n",
       "      <td>0</td>\n",
       "      <td>0</td>\n",
       "      <td>0</td>\n",
       "      <td>1</td>\n",
       "      <td>0</td>\n",
       "      <td>0</td>\n",
       "      <td>0</td>\n",
       "      <td>1</td>\n",
       "      <td>0</td>\n",
       "      <td>0</td>\n",
       "      <td>0</td>\n",
       "      <td>0</td>\n",
       "      <td>0</td>\n",
       "      <td>1</td>\n",
       "      <td>0</td>\n",
       "      <td>0</td>\n",
       "      <td>0</td>\n",
       "      <td>1</td>\n",
       "      <td>0</td>\n",
       "      <td>0</td>\n",
       "      <td>0</td>\n",
       "      <td>0</td>\n",
       "      <td>0</td>\n",
       "      <td>0</td>\n",
       "      <td>0</td>\n",
       "      <td>0</td>\n",
       "      <td>0</td>\n",
       "      <td>0</td>\n",
       "      <td>1</td>\n",
       "      <td>1</td>\n",
       "      <td>0</td>\n",
       "      <td>0</td>\n",
       "      <td>0</td>\n",
       "      <td>0</td>\n",
       "      <td>0</td>\n",
       "      <td>0</td>\n",
       "    </tr>\n",
       "    <tr>\n",
       "      <th>11</th>\n",
       "      <td>0</td>\n",
       "      <td>0</td>\n",
       "      <td>1</td>\n",
       "      <td>0</td>\n",
       "      <td>0</td>\n",
       "      <td>1</td>\n",
       "      <td>0</td>\n",
       "      <td>0</td>\n",
       "      <td>0</td>\n",
       "      <td>0</td>\n",
       "      <td>1</td>\n",
       "      <td>0</td>\n",
       "      <td>0</td>\n",
       "      <td>0</td>\n",
       "      <td>1</td>\n",
       "      <td>1</td>\n",
       "      <td>0</td>\n",
       "      <td>0</td>\n",
       "      <td>0</td>\n",
       "      <td>0</td>\n",
       "      <td>0</td>\n",
       "      <td>0</td>\n",
       "      <td>0</td>\n",
       "      <td>0</td>\n",
       "      <td>1</td>\n",
       "      <td>0</td>\n",
       "      <td>0</td>\n",
       "      <td>0</td>\n",
       "      <td>0</td>\n",
       "      <td>0</td>\n",
       "      <td>0</td>\n",
       "      <td>0</td>\n",
       "      <td>0</td>\n",
       "      <td>0</td>\n",
       "      <td>0</td>\n",
       "      <td>1</td>\n",
       "      <td>1</td>\n",
       "      <td>0</td>\n",
       "      <td>0</td>\n",
       "      <td>0</td>\n",
       "      <td>0</td>\n",
       "      <td>0</td>\n",
       "      <td>0</td>\n",
       "    </tr>\n",
       "    <tr>\n",
       "      <th>...</th>\n",
       "      <td>...</td>\n",
       "      <td>...</td>\n",
       "      <td>...</td>\n",
       "      <td>...</td>\n",
       "      <td>...</td>\n",
       "      <td>...</td>\n",
       "      <td>...</td>\n",
       "      <td>...</td>\n",
       "      <td>...</td>\n",
       "      <td>...</td>\n",
       "      <td>...</td>\n",
       "      <td>...</td>\n",
       "      <td>...</td>\n",
       "      <td>...</td>\n",
       "      <td>...</td>\n",
       "      <td>...</td>\n",
       "      <td>...</td>\n",
       "      <td>...</td>\n",
       "      <td>...</td>\n",
       "      <td>...</td>\n",
       "      <td>...</td>\n",
       "      <td>...</td>\n",
       "      <td>...</td>\n",
       "      <td>...</td>\n",
       "      <td>...</td>\n",
       "      <td>...</td>\n",
       "      <td>...</td>\n",
       "      <td>...</td>\n",
       "      <td>...</td>\n",
       "      <td>...</td>\n",
       "      <td>...</td>\n",
       "      <td>...</td>\n",
       "      <td>...</td>\n",
       "      <td>...</td>\n",
       "      <td>...</td>\n",
       "      <td>...</td>\n",
       "      <td>...</td>\n",
       "      <td>...</td>\n",
       "      <td>...</td>\n",
       "      <td>...</td>\n",
       "      <td>...</td>\n",
       "      <td>...</td>\n",
       "      <td>...</td>\n",
       "    </tr>\n",
       "    <tr>\n",
       "      <th>32679</th>\n",
       "      <td>1</td>\n",
       "      <td>0</td>\n",
       "      <td>0</td>\n",
       "      <td>1</td>\n",
       "      <td>0</td>\n",
       "      <td>1</td>\n",
       "      <td>0</td>\n",
       "      <td>0</td>\n",
       "      <td>0</td>\n",
       "      <td>0</td>\n",
       "      <td>0</td>\n",
       "      <td>1</td>\n",
       "      <td>1</td>\n",
       "      <td>0</td>\n",
       "      <td>0</td>\n",
       "      <td>0</td>\n",
       "      <td>0</td>\n",
       "      <td>0</td>\n",
       "      <td>0</td>\n",
       "      <td>1</td>\n",
       "      <td>0</td>\n",
       "      <td>0</td>\n",
       "      <td>0</td>\n",
       "      <td>0</td>\n",
       "      <td>1</td>\n",
       "      <td>0</td>\n",
       "      <td>0</td>\n",
       "      <td>0</td>\n",
       "      <td>0</td>\n",
       "      <td>0</td>\n",
       "      <td>1</td>\n",
       "      <td>0</td>\n",
       "      <td>0</td>\n",
       "      <td>0</td>\n",
       "      <td>0</td>\n",
       "      <td>0</td>\n",
       "      <td>1</td>\n",
       "      <td>0</td>\n",
       "      <td>0</td>\n",
       "      <td>0</td>\n",
       "      <td>0</td>\n",
       "      <td>0</td>\n",
       "      <td>0</td>\n",
       "    </tr>\n",
       "    <tr>\n",
       "      <th>32680</th>\n",
       "      <td>1</td>\n",
       "      <td>0</td>\n",
       "      <td>1</td>\n",
       "      <td>0</td>\n",
       "      <td>0</td>\n",
       "      <td>1</td>\n",
       "      <td>0</td>\n",
       "      <td>0</td>\n",
       "      <td>0</td>\n",
       "      <td>0</td>\n",
       "      <td>1</td>\n",
       "      <td>0</td>\n",
       "      <td>0</td>\n",
       "      <td>0</td>\n",
       "      <td>1</td>\n",
       "      <td>0</td>\n",
       "      <td>0</td>\n",
       "      <td>0</td>\n",
       "      <td>0</td>\n",
       "      <td>0</td>\n",
       "      <td>0</td>\n",
       "      <td>0</td>\n",
       "      <td>0</td>\n",
       "      <td>1</td>\n",
       "      <td>1</td>\n",
       "      <td>0</td>\n",
       "      <td>0</td>\n",
       "      <td>0</td>\n",
       "      <td>0</td>\n",
       "      <td>0</td>\n",
       "      <td>1</td>\n",
       "      <td>0</td>\n",
       "      <td>0</td>\n",
       "      <td>0</td>\n",
       "      <td>0</td>\n",
       "      <td>0</td>\n",
       "      <td>1</td>\n",
       "      <td>0</td>\n",
       "      <td>0</td>\n",
       "      <td>0</td>\n",
       "      <td>0</td>\n",
       "      <td>0</td>\n",
       "      <td>0</td>\n",
       "    </tr>\n",
       "    <tr>\n",
       "      <th>32681</th>\n",
       "      <td>1</td>\n",
       "      <td>0</td>\n",
       "      <td>0</td>\n",
       "      <td>1</td>\n",
       "      <td>0</td>\n",
       "      <td>1</td>\n",
       "      <td>0</td>\n",
       "      <td>0</td>\n",
       "      <td>0</td>\n",
       "      <td>0</td>\n",
       "      <td>1</td>\n",
       "      <td>0</td>\n",
       "      <td>1</td>\n",
       "      <td>0</td>\n",
       "      <td>0</td>\n",
       "      <td>0</td>\n",
       "      <td>0</td>\n",
       "      <td>0</td>\n",
       "      <td>0</td>\n",
       "      <td>0</td>\n",
       "      <td>0</td>\n",
       "      <td>1</td>\n",
       "      <td>0</td>\n",
       "      <td>0</td>\n",
       "      <td>1</td>\n",
       "      <td>0</td>\n",
       "      <td>0</td>\n",
       "      <td>0</td>\n",
       "      <td>0</td>\n",
       "      <td>0</td>\n",
       "      <td>1</td>\n",
       "      <td>0</td>\n",
       "      <td>0</td>\n",
       "      <td>0</td>\n",
       "      <td>0</td>\n",
       "      <td>0</td>\n",
       "      <td>1</td>\n",
       "      <td>0</td>\n",
       "      <td>0</td>\n",
       "      <td>0</td>\n",
       "      <td>0</td>\n",
       "      <td>0</td>\n",
       "      <td>1</td>\n",
       "    </tr>\n",
       "    <tr>\n",
       "      <th>32683</th>\n",
       "      <td>1</td>\n",
       "      <td>0</td>\n",
       "      <td>0</td>\n",
       "      <td>1</td>\n",
       "      <td>0</td>\n",
       "      <td>0</td>\n",
       "      <td>0</td>\n",
       "      <td>0</td>\n",
       "      <td>1</td>\n",
       "      <td>0</td>\n",
       "      <td>1</td>\n",
       "      <td>0</td>\n",
       "      <td>1</td>\n",
       "      <td>0</td>\n",
       "      <td>0</td>\n",
       "      <td>1</td>\n",
       "      <td>0</td>\n",
       "      <td>0</td>\n",
       "      <td>0</td>\n",
       "      <td>0</td>\n",
       "      <td>0</td>\n",
       "      <td>0</td>\n",
       "      <td>0</td>\n",
       "      <td>0</td>\n",
       "      <td>1</td>\n",
       "      <td>0</td>\n",
       "      <td>0</td>\n",
       "      <td>0</td>\n",
       "      <td>0</td>\n",
       "      <td>0</td>\n",
       "      <td>1</td>\n",
       "      <td>0</td>\n",
       "      <td>0</td>\n",
       "      <td>0</td>\n",
       "      <td>0</td>\n",
       "      <td>0</td>\n",
       "      <td>1</td>\n",
       "      <td>0</td>\n",
       "      <td>0</td>\n",
       "      <td>0</td>\n",
       "      <td>0</td>\n",
       "      <td>0</td>\n",
       "      <td>1</td>\n",
       "    </tr>\n",
       "    <tr>\n",
       "      <th>32687</th>\n",
       "      <td>1</td>\n",
       "      <td>0</td>\n",
       "      <td>0</td>\n",
       "      <td>1</td>\n",
       "      <td>0</td>\n",
       "      <td>1</td>\n",
       "      <td>0</td>\n",
       "      <td>0</td>\n",
       "      <td>0</td>\n",
       "      <td>0</td>\n",
       "      <td>1</td>\n",
       "      <td>0</td>\n",
       "      <td>1</td>\n",
       "      <td>0</td>\n",
       "      <td>0</td>\n",
       "      <td>0</td>\n",
       "      <td>0</td>\n",
       "      <td>0</td>\n",
       "      <td>0</td>\n",
       "      <td>0</td>\n",
       "      <td>0</td>\n",
       "      <td>1</td>\n",
       "      <td>0</td>\n",
       "      <td>0</td>\n",
       "      <td>1</td>\n",
       "      <td>0</td>\n",
       "      <td>0</td>\n",
       "      <td>0</td>\n",
       "      <td>0</td>\n",
       "      <td>0</td>\n",
       "      <td>1</td>\n",
       "      <td>0</td>\n",
       "      <td>0</td>\n",
       "      <td>0</td>\n",
       "      <td>0</td>\n",
       "      <td>0</td>\n",
       "      <td>1</td>\n",
       "      <td>0</td>\n",
       "      <td>0</td>\n",
       "      <td>0</td>\n",
       "      <td>0</td>\n",
       "      <td>0</td>\n",
       "      <td>0</td>\n",
       "    </tr>\n",
       "  </tbody>\n",
       "</table>\n",
       "<p>15962 rows × 43 columns</p>\n",
       "</div>"
      ],
      "text/plain": [
       "       hours_worked_over40  sex_male  age_under35  age_35to55  age_over55  \\\n",
       "1                        1         0            1           0           0   \n",
       "4                        0         0            1           0           0   \n",
       "6                        0         0            1           0           0   \n",
       "8                        0         0            1           0           0   \n",
       "11                       0         0            1           0           0   \n",
       "...                    ...       ...          ...         ...         ...   \n",
       "32679                    1         0            0           1           0   \n",
       "32680                    1         0            1           0           0   \n",
       "32681                    1         0            0           1           0   \n",
       "32683                    1         0            0           1           0   \n",
       "32687                    1         0            0           1           0   \n",
       "\n",
       "       work_forprofit  work_nonprofit  work_gov  work_selfemploy  \\\n",
       "1                   1               0         0                0   \n",
       "4                   1               0         0                0   \n",
       "6                   1               0         0                0   \n",
       "8                   0               1         0                0   \n",
       "11                  1               0         0                0   \n",
       "...               ...             ...       ...              ...   \n",
       "32679               1               0         0                0   \n",
       "32680               1               0         0                0   \n",
       "32681               1               0         0                0   \n",
       "32683               0               0         0                1   \n",
       "32687               1               0         0                0   \n",
       "\n",
       "       education_noHS  education_HS  education_college  rel_married  \\\n",
       "1                   0             1                  0            0   \n",
       "4                   0             1                  0            0   \n",
       "6                   0             1                  0            0   \n",
       "8                   0             1                  0            0   \n",
       "11                  0             1                  0            0   \n",
       "...               ...           ...                ...          ...   \n",
       "32679               0             0                  1            1   \n",
       "32680               0             1                  0            0   \n",
       "32681               0             1                  0            1   \n",
       "32683               0             1                  0            1   \n",
       "32687               0             1                  0            1   \n",
       "\n",
       "       rel_divorced  rel_single  occ_business  occ_science  occ_social  \\\n",
       "1                 0           1             0            0           0   \n",
       "4                 0           1             0            1           0   \n",
       "6                 0           1             0            0           0   \n",
       "8                 0           1             0            0           0   \n",
       "11                0           1             1            0           0   \n",
       "...             ...         ...           ...          ...         ...   \n",
       "32679             0           0             0            0           0   \n",
       "32680             0           1             0            0           0   \n",
       "32681             0           0             0            0           0   \n",
       "32683             0           0             1            0           0   \n",
       "32687             0           0             0            0           0   \n",
       "\n",
       "       occ_protective  occ_sales  occ_admin  occ_trades  occ_crafts  \\\n",
       "1                   0          0          1           0           0   \n",
       "4                   0          0          0           0           0   \n",
       "6                   0          0          0           0           0   \n",
       "8                   0          0          1           0           0   \n",
       "11                  0          0          0           0           0   \n",
       "...               ...        ...        ...         ...         ...   \n",
       "32679               0          1          0           0           0   \n",
       "32680               0          0          0           0           0   \n",
       "32681               0          0          0           1           0   \n",
       "32683               0          0          0           0           0   \n",
       "32687               0          0          0           1           0   \n",
       "\n",
       "       occ_logistics  birth_usstate  birth_usterr  birth_europe  birth_asia  \\\n",
       "1                  0              1             0             0           0   \n",
       "4                  0              1             0             0           0   \n",
       "6                  1              1             0             0           0   \n",
       "8                  0              1             0             0           0   \n",
       "11                 0              1             0             0           0   \n",
       "...              ...            ...           ...           ...         ...   \n",
       "32679              0              1             0             0           0   \n",
       "32680              1              1             0             0           0   \n",
       "32681              0              1             0             0           0   \n",
       "32683              0              1             0             0           0   \n",
       "32687              0              1             0             0           0   \n",
       "\n",
       "       birth_americas  birth_africa  role_hoh  role_child  role_family  \\\n",
       "1                   0             0         0           0            0   \n",
       "4                   0             0         0           0            0   \n",
       "6                   0             0         0           0            0   \n",
       "8                   0             0         0           0            0   \n",
       "11                  0             0         0           0            0   \n",
       "...               ...           ...       ...         ...          ...   \n",
       "32679               0             0         1           0            0   \n",
       "32680               0             0         1           0            0   \n",
       "32681               0             0         1           0            0   \n",
       "32683               0             0         1           0            0   \n",
       "32687               0             0         1           0            0   \n",
       "\n",
       "       role_housemate  role_institution  role_group  race_white  race_black  \\\n",
       "1                   0                 0           1           1           0   \n",
       "4                   0                 0           1           1           0   \n",
       "6                   0                 0           1           1           0   \n",
       "8                   0                 0           1           1           0   \n",
       "11                  0                 0           1           1           0   \n",
       "...               ...               ...         ...         ...         ...   \n",
       "32679               0                 0           0           1           0   \n",
       "32680               0                 0           0           1           0   \n",
       "32681               0                 0           0           1           0   \n",
       "32683               0                 0           0           1           0   \n",
       "32687               0                 0           0           1           0   \n",
       "\n",
       "       race_indigenous  race_asian  race_other  race_multi  label  \n",
       "1                    0           0           0           0      0  \n",
       "4                    0           0           0           0      0  \n",
       "6                    0           0           0           0      0  \n",
       "8                    0           0           0           0      0  \n",
       "11                   0           0           0           0      0  \n",
       "...                ...         ...         ...         ...    ...  \n",
       "32679                0           0           0           0      0  \n",
       "32680                0           0           0           0      0  \n",
       "32681                0           0           0           0      1  \n",
       "32683                0           0           0           0      1  \n",
       "32687                0           0           0           0      0  \n",
       "\n",
       "[15962 rows x 43 columns]"
      ]
     },
     "execution_count": 35,
     "metadata": {},
     "output_type": "execute_result"
    }
   ],
   "source": [
    "fem[fem.race_white==1]"
   ]
  },
  {
   "cell_type": "markdown",
   "metadata": {},
   "source": []
  },
  {
   "cell_type": "code",
   "execution_count": 38,
   "metadata": {},
   "outputs": [
    {
     "data": {
      "text/plain": [
       "0.012725604160293667"
      ]
     },
     "execution_count": 38,
     "metadata": {},
     "output_type": "execute_result"
    }
   ],
   "source": [
    "(844-428)/len(data_inc)"
   ]
  },
  {
   "cell_type": "markdown",
   "metadata": {},
   "source": []
  }
 ],
 "metadata": {
  "kernelspec": {
   "display_name": "base",
   "language": "python",
   "name": "python3"
  },
  "language_info": {
   "codemirror_mode": {
    "name": "ipython",
    "version": 3
   },
   "file_extension": ".py",
   "mimetype": "text/x-python",
   "name": "python",
   "nbconvert_exporter": "python",
   "pygments_lexer": "ipython3",
   "version": "3.10.6"
  },
  "orig_nbformat": 4,
  "vscode": {
   "interpreter": {
    "hash": "cb3fba27a62f3fcd76b1604a296d06218a0197a0ba7384c92d91251fb85a1b18"
   }
  }
 },
 "nbformat": 4,
 "nbformat_minor": 2
}
